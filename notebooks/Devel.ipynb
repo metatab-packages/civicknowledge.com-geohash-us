{
 "cells": [
  {
   "cell_type": "code",
   "execution_count": 1,
   "id": "rotary-obligation",
   "metadata": {},
   "outputs": [],
   "source": [
    "%load_ext autoreload\n",
    "%autoreload 2\n",
    "    \n",
    "from pathlib import Path\n",
    "import metapack as mp\n",
    "import geopandas as gpd\n",
    "import pandas as pd\n",
    "from auto_tqdm import tqdm \n",
    "\n",
    "doc = mp.jupyter.open_source_package()\n",
    "doc.set_sys_path()\n",
    "import pylib\n",
    "\n",
    "ea_epsg = 2163 #US Equal Area projection\n",
    "\n",
    "import logging\n",
    "logging.basicConfig()\n",
    "\n",
    "from pylib import logger\n",
    "logger.setLevel(logging.DEBUG)\n"
   ]
  },
  {
   "cell_type": "code",
   "execution_count": 2,
   "id": "piano-silence",
   "metadata": {
    "pycharm": {
     "is_executing": true
    }
   },
   "outputs": [],
   "source": [
    "#pkg_root = str(Path(__file__).parent.resolve())\n",
    "pkg_root = Path(doc.path).parent\n",
    "\n",
    "pkg = mp.open_package(pkg_root)\n",
    "ex = pylib.ExtractManager(pkg)"
   ]
  },
  {
   "cell_type": "code",
   "execution_count": 15,
   "id": "available-brook",
   "metadata": {
    "pycharm": {
     "is_executing": true
    }
   },
   "outputs": [
    {
     "name": "stderr",
     "output_type": "stream",
     "text": [
      "INFO:pylib.extract:Building tracts\n"
     ]
    },
    {
     "data": {
      "application/vnd.jupyter.widget-view+json": {
       "model_id": "",
       "version_major": 2,
       "version_minor": 0
      },
      "text/plain": [
       "  0%|          | 0/52 [00:00<?, ?it/s]"
      ]
     },
     "metadata": {},
     "output_type": "display_data"
    },
    {
     "name": "stdout",
     "output_type": "stream",
     "text": [
      "CPU times: user 50.8 s, sys: 1.81 s, total: 52.7 s\n",
      "Wall time: 53.3 s\n"
     ]
    }
   ],
   "source": [
    "%time tracts = ex.tracts"
   ]
  },
  {
   "cell_type": "code",
   "execution_count": 26,
   "id": "royal-authorization",
   "metadata": {},
   "outputs": [],
   "source": [
    "ex._zones = None"
   ]
  },
  {
   "cell_type": "code",
   "execution_count": 29,
   "id": "historical-transcription",
   "metadata": {},
   "outputs": [
    {
     "data": {
      "text/html": [
       "<div>\n",
       "<style scoped>\n",
       "    .dataframe tbody tr th:only-of-type {\n",
       "        vertical-align: middle;\n",
       "    }\n",
       "\n",
       "    .dataframe tbody tr th {\n",
       "        vertical-align: top;\n",
       "    }\n",
       "\n",
       "    .dataframe thead th {\n",
       "        text-align: right;\n",
       "    }\n",
       "</style>\n",
       "<table border=\"1\" class=\"dataframe\">\n",
       "  <thead>\n",
       "    <tr style=\"text-align: right;\">\n",
       "      <th></th>\n",
       "      <th>geoid</th>\n",
       "      <th>zone</th>\n",
       "      <th>epsg</th>\n",
       "    </tr>\n",
       "  </thead>\n",
       "  <tbody>\n",
       "    <tr>\n",
       "      <th>194</th>\n",
       "      <td>14000US06079010701</td>\n",
       "      <td>10S</td>\n",
       "      <td>32610</td>\n",
       "    </tr>\n",
       "    <tr>\n",
       "      <th>194</th>\n",
       "      <td>14000US06079010707</td>\n",
       "      <td>10S</td>\n",
       "      <td>32610</td>\n",
       "    </tr>\n",
       "    <tr>\n",
       "      <th>194</th>\n",
       "      <td>14000US06079010602</td>\n",
       "      <td>10S</td>\n",
       "      <td>32610</td>\n",
       "    </tr>\n",
       "    <tr>\n",
       "      <th>194</th>\n",
       "      <td>14000US06079010603</td>\n",
       "      <td>10S</td>\n",
       "      <td>32610</td>\n",
       "    </tr>\n",
       "    <tr>\n",
       "      <th>194</th>\n",
       "      <td>14000US06079990000</td>\n",
       "      <td>10S</td>\n",
       "      <td>32610</td>\n",
       "    </tr>\n",
       "    <tr>\n",
       "      <th>...</th>\n",
       "      <td>...</td>\n",
       "      <td>...</td>\n",
       "      <td>...</td>\n",
       "    </tr>\n",
       "    <tr>\n",
       "      <th>375</th>\n",
       "      <td>14000US09011705101</td>\n",
       "      <td>19T</td>\n",
       "      <td>32619</td>\n",
       "    </tr>\n",
       "    <tr>\n",
       "      <th>375</th>\n",
       "      <td>14000US09011703000</td>\n",
       "      <td>19T</td>\n",
       "      <td>32619</td>\n",
       "    </tr>\n",
       "    <tr>\n",
       "      <th>375</th>\n",
       "      <td>14000US44009050802</td>\n",
       "      <td>19T</td>\n",
       "      <td>32619</td>\n",
       "    </tr>\n",
       "    <tr>\n",
       "      <th>375</th>\n",
       "      <td>14000US44009041500</td>\n",
       "      <td>19T</td>\n",
       "      <td>32619</td>\n",
       "    </tr>\n",
       "    <tr>\n",
       "      <th>375</th>\n",
       "      <td>14000US44009990200</td>\n",
       "      <td>19T</td>\n",
       "      <td>32619</td>\n",
       "    </tr>\n",
       "  </tbody>\n",
       "</table>\n",
       "<p>74196 rows × 3 columns</p>\n",
       "</div>"
      ],
      "text/plain": [
       "                  geoid zone   epsg\n",
       "194  14000US06079010701  10S  32610\n",
       "194  14000US06079010707  10S  32610\n",
       "194  14000US06079010602  10S  32610\n",
       "194  14000US06079010603  10S  32610\n",
       "194  14000US06079990000  10S  32610\n",
       "..                  ...  ...    ...\n",
       "375  14000US09011705101  19T  32619\n",
       "375  14000US09011703000  19T  32619\n",
       "375  14000US44009050802  19T  32619\n",
       "375  14000US44009041500  19T  32619\n",
       "375  14000US44009990200  19T  32619\n",
       "\n",
       "[74196 rows x 3 columns]"
      ]
     },
     "execution_count": 29,
     "metadata": {},
     "output_type": "execute_result"
    }
   ],
   "source": [
    "ex.utm_zones\n"
   ]
  },
  {
   "cell_type": "code",
   "execution_count": 21,
   "id": "dress-catering",
   "metadata": {},
   "outputs": [
    {
     "data": {
      "text/html": [
       "<div>\n",
       "<style scoped>\n",
       "    .dataframe tbody tr th:only-of-type {\n",
       "        vertical-align: middle;\n",
       "    }\n",
       "\n",
       "    .dataframe tbody tr th {\n",
       "        vertical-align: top;\n",
       "    }\n",
       "\n",
       "    .dataframe thead th {\n",
       "        text-align: right;\n",
       "    }\n",
       "</style>\n",
       "<table border=\"1\" class=\"dataframe\">\n",
       "  <thead>\n",
       "    <tr style=\"text-align: right;\">\n",
       "      <th></th>\n",
       "      <th>geoid</th>\n",
       "      <th>zone</th>\n",
       "      <th>epsg</th>\n",
       "    </tr>\n",
       "  </thead>\n",
       "  <tbody>\n",
       "    <tr>\n",
       "      <th>194</th>\n",
       "      <td>14000US06079010701</td>\n",
       "      <td>10S</td>\n",
       "      <td>32610</td>\n",
       "    </tr>\n",
       "    <tr>\n",
       "      <th>194</th>\n",
       "      <td>14000US06079010707</td>\n",
       "      <td>10S</td>\n",
       "      <td>32610</td>\n",
       "    </tr>\n",
       "    <tr>\n",
       "      <th>194</th>\n",
       "      <td>14000US06079010602</td>\n",
       "      <td>10S</td>\n",
       "      <td>32610</td>\n",
       "    </tr>\n",
       "    <tr>\n",
       "      <th>194</th>\n",
       "      <td>14000US06079010603</td>\n",
       "      <td>10S</td>\n",
       "      <td>32610</td>\n",
       "    </tr>\n",
       "    <tr>\n",
       "      <th>194</th>\n",
       "      <td>14000US06079990000</td>\n",
       "      <td>10S</td>\n",
       "      <td>32610</td>\n",
       "    </tr>\n",
       "    <tr>\n",
       "      <th>...</th>\n",
       "      <td>...</td>\n",
       "      <td>...</td>\n",
       "      <td>...</td>\n",
       "    </tr>\n",
       "    <tr>\n",
       "      <th>375</th>\n",
       "      <td>14000US09011705101</td>\n",
       "      <td>19T</td>\n",
       "      <td>32619</td>\n",
       "    </tr>\n",
       "    <tr>\n",
       "      <th>375</th>\n",
       "      <td>14000US09011703000</td>\n",
       "      <td>19T</td>\n",
       "      <td>32619</td>\n",
       "    </tr>\n",
       "    <tr>\n",
       "      <th>375</th>\n",
       "      <td>14000US44009050802</td>\n",
       "      <td>19T</td>\n",
       "      <td>32619</td>\n",
       "    </tr>\n",
       "    <tr>\n",
       "      <th>375</th>\n",
       "      <td>14000US44009041500</td>\n",
       "      <td>19T</td>\n",
       "      <td>32619</td>\n",
       "    </tr>\n",
       "    <tr>\n",
       "      <th>375</th>\n",
       "      <td>14000US44009990200</td>\n",
       "      <td>19T</td>\n",
       "      <td>32619</td>\n",
       "    </tr>\n",
       "  </tbody>\n",
       "</table>\n",
       "<p>74196 rows × 3 columns</p>\n",
       "</div>"
      ],
      "text/plain": [
       "                  geoid zone   epsg\n",
       "194  14000US06079010701  10S  32610\n",
       "194  14000US06079010707  10S  32610\n",
       "194  14000US06079010602  10S  32610\n",
       "194  14000US06079010603  10S  32610\n",
       "194  14000US06079990000  10S  32610\n",
       "..                  ...  ...    ...\n",
       "375  14000US09011705101  19T  32619\n",
       "375  14000US09011703000  19T  32619\n",
       "375  14000US44009050802  19T  32619\n",
       "375  14000US44009041500  19T  32619\n",
       "375  14000US44009990200  19T  32619\n",
       "\n",
       "[74196 rows x 3 columns]"
      ]
     },
     "execution_count": 21,
     "metadata": {},
     "output_type": "execute_result"
    }
   ],
   "source": [
    "g[['geoid','zone', 'epsg']]"
   ]
  },
  {
   "cell_type": "code",
   "execution_count": 4,
   "id": "biological-generation",
   "metadata": {
    "pycharm": {
     "is_executing": true
    }
   },
   "outputs": [
    {
     "name": "stderr",
     "output_type": "stream",
     "text": [
      "INFO:pylib.extract:Building geohashes\n",
      "INFO:pylib.extract:Linking gh centroids to tracts\n"
     ]
    },
    {
     "name": "stdout",
     "output_type": "stream",
     "text": [
      "CPU times: user 1min 3s, sys: 1 s, total: 1min 4s\n",
      "Wall time: 1min 5s\n"
     ]
    },
    {
     "name": "stderr",
     "output_type": "stream",
     "text": [
      "INFO:pylib.extract:Linking gtracts\n"
     ]
    },
    {
     "name": "stdout",
     "output_type": "stream",
     "text": [
      "CPU times: user 1min 7s, sys: 1.46 s, total: 1min 8s\n",
      "Wall time: 1min 9s\n"
     ]
    },
    {
     "data": {
      "application/vnd.jupyter.widget-view+json": {
       "model_id": "",
       "version_major": 2,
       "version_minor": 0
      },
      "text/plain": [
       "  0%|          | 0/10 [00:00<?, ?it/s]"
      ]
     },
     "metadata": {},
     "output_type": "display_data"
    },
    {
     "name": "stdout",
     "output_type": "stream",
     "text": [
      "149229 14144 80132 80136\n",
      "CPU times: user 2min 31s, sys: 2.22 s, total: 2min 34s\n",
      "Wall time: 2min 35s\n"
     ]
    }
   ],
   "source": [
    "%time geohashes = ex.geohashes\n",
    "%time g2t = ex.geo_to_tract\n",
    "%time overlay = ex.overlay"
   ]
  },
  {
   "cell_type": "code",
   "execution_count": 5,
   "id": "wrong-gentleman",
   "metadata": {
    "pycharm": {
     "is_executing": true
    }
   },
   "outputs": [
    {
     "data": {
      "text/html": [
       "<div>\n",
       "<style scoped>\n",
       "    .dataframe tbody tr th:only-of-type {\n",
       "        vertical-align: middle;\n",
       "    }\n",
       "\n",
       "    .dataframe tbody tr th {\n",
       "        vertical-align: top;\n",
       "    }\n",
       "\n",
       "    .dataframe thead th {\n",
       "        text-align: right;\n",
       "    }\n",
       "</style>\n",
       "<table border=\"1\" class=\"dataframe\">\n",
       "  <thead>\n",
       "    <tr style=\"text-align: right;\">\n",
       "      <th></th>\n",
       "      <th>geohash</th>\n",
       "      <th>tract_id</th>\n",
       "      <th>geoid</th>\n",
       "      <th>aland</th>\n",
       "      <th>awater</th>\n",
       "      <th>tract_area</th>\n",
       "      <th>gh_area</th>\n",
       "      <th>ovl_area</th>\n",
       "      <th>gh_in_tract_prop</th>\n",
       "      <th>tract_in_gh_prop</th>\n",
       "    </tr>\n",
       "  </thead>\n",
       "  <tbody>\n",
       "    <tr>\n",
       "      <th>0</th>\n",
       "      <td>9q8z</td>\n",
       "      <td>4735</td>\n",
       "      <td>14000US06013381000</td>\n",
       "      <td>1961893</td>\n",
       "      <td>0</td>\n",
       "      <td>1961893</td>\n",
       "      <td>602980674</td>\n",
       "      <td>287997</td>\n",
       "      <td>0.146796</td>\n",
       "      <td>0.000478</td>\n",
       "    </tr>\n",
       "    <tr>\n",
       "      <th>1</th>\n",
       "      <td>9q8z</td>\n",
       "      <td>4927</td>\n",
       "      <td>14000US06001990000</td>\n",
       "      <td>0</td>\n",
       "      <td>139280186</td>\n",
       "      <td>139280186</td>\n",
       "      <td>602980674</td>\n",
       "      <td>12726946</td>\n",
       "      <td>0.091377</td>\n",
       "      <td>0.021107</td>\n",
       "    </tr>\n",
       "    <tr>\n",
       "      <th>2</th>\n",
       "      <td>9q8z</td>\n",
       "      <td>5469</td>\n",
       "      <td>14000US06001401700</td>\n",
       "      <td>5757355</td>\n",
       "      <td>5813128</td>\n",
       "      <td>11570483</td>\n",
       "      <td>602980674</td>\n",
       "      <td>64297</td>\n",
       "      <td>0.005557</td>\n",
       "      <td>0.000107</td>\n",
       "    </tr>\n",
       "    <tr>\n",
       "      <th>3</th>\n",
       "      <td>9q8z</td>\n",
       "      <td>5516</td>\n",
       "      <td>14000US06075990100</td>\n",
       "      <td>0</td>\n",
       "      <td>70939179</td>\n",
       "      <td>70939179</td>\n",
       "      <td>602980674</td>\n",
       "      <td>15681252</td>\n",
       "      <td>0.221052</td>\n",
       "      <td>0.026006</td>\n",
       "    </tr>\n",
       "    <tr>\n",
       "      <th>4</th>\n",
       "      <td>9q8z</td>\n",
       "      <td>5885</td>\n",
       "      <td>14000US06075061500</td>\n",
       "      <td>1660735</td>\n",
       "      <td>451319</td>\n",
       "      <td>2112054</td>\n",
       "      <td>602980674</td>\n",
       "      <td>141190</td>\n",
       "      <td>0.066850</td>\n",
       "      <td>0.000234</td>\n",
       "    </tr>\n",
       "    <tr>\n",
       "      <th>...</th>\n",
       "      <td>...</td>\n",
       "      <td>...</td>\n",
       "      <td>...</td>\n",
       "      <td>...</td>\n",
       "      <td>...</td>\n",
       "      <td>...</td>\n",
       "      <td>...</td>\n",
       "      <td>...</td>\n",
       "      <td>...</td>\n",
       "      <td>...</td>\n",
       "    </tr>\n",
       "    <tr>\n",
       "      <th>149224</th>\n",
       "      <td>dryv</td>\n",
       "      <td>31235</td>\n",
       "      <td>14000US23019012500</td>\n",
       "      <td>170982219</td>\n",
       "      <td>3785077</td>\n",
       "      <td>174767296</td>\n",
       "      <td>545143618</td>\n",
       "      <td>584949</td>\n",
       "      <td>0.003347</td>\n",
       "      <td>0.001073</td>\n",
       "    </tr>\n",
       "    <tr>\n",
       "      <th>149225</th>\n",
       "      <td>drm1</td>\n",
       "      <td>64249</td>\n",
       "      <td>14000US44009990200</td>\n",
       "      <td>0</td>\n",
       "      <td>251843080</td>\n",
       "      <td>251843080</td>\n",
       "      <td>577212447</td>\n",
       "      <td>46574081</td>\n",
       "      <td>0.184933</td>\n",
       "      <td>0.080688</td>\n",
       "    </tr>\n",
       "    <tr>\n",
       "      <th>149226</th>\n",
       "      <td>f2rj</td>\n",
       "      <td>31413</td>\n",
       "      <td>14000US23003950600</td>\n",
       "      <td>140257679</td>\n",
       "      <td>2610619</td>\n",
       "      <td>142868298</td>\n",
       "      <td>518491161</td>\n",
       "      <td>225992</td>\n",
       "      <td>0.001582</td>\n",
       "      <td>0.000436</td>\n",
       "    </tr>\n",
       "    <tr>\n",
       "      <th>149227</th>\n",
       "      <td>drkc</td>\n",
       "      <td>49624</td>\n",
       "      <td>14000US36103201004</td>\n",
       "      <td>47889176</td>\n",
       "      <td>44916015</td>\n",
       "      <td>92805191</td>\n",
       "      <td>577404354</td>\n",
       "      <td>92871125</td>\n",
       "      <td>1.000710</td>\n",
       "      <td>0.160842</td>\n",
       "    </tr>\n",
       "    <tr>\n",
       "      <th>149228</th>\n",
       "      <td>drkc</td>\n",
       "      <td>49625</td>\n",
       "      <td>14000US36103201004</td>\n",
       "      <td>47889176</td>\n",
       "      <td>44916015</td>\n",
       "      <td>92805191</td>\n",
       "      <td>577404354</td>\n",
       "      <td>92871125</td>\n",
       "      <td>1.000710</td>\n",
       "      <td>0.160842</td>\n",
       "    </tr>\n",
       "  </tbody>\n",
       "</table>\n",
       "<p>149229 rows × 10 columns</p>\n",
       "</div>"
      ],
      "text/plain": [
       "       geohash  tract_id               geoid      aland     awater  \\\n",
       "0         9q8z      4735  14000US06013381000    1961893          0   \n",
       "1         9q8z      4927  14000US06001990000          0  139280186   \n",
       "2         9q8z      5469  14000US06001401700    5757355    5813128   \n",
       "3         9q8z      5516  14000US06075990100          0   70939179   \n",
       "4         9q8z      5885  14000US06075061500    1660735     451319   \n",
       "...        ...       ...                 ...        ...        ...   \n",
       "149224    dryv     31235  14000US23019012500  170982219    3785077   \n",
       "149225    drm1     64249  14000US44009990200          0  251843080   \n",
       "149226    f2rj     31413  14000US23003950600  140257679    2610619   \n",
       "149227    drkc     49624  14000US36103201004   47889176   44916015   \n",
       "149228    drkc     49625  14000US36103201004   47889176   44916015   \n",
       "\n",
       "        tract_area    gh_area  ovl_area  gh_in_tract_prop  tract_in_gh_prop  \n",
       "0          1961893  602980674    287997          0.146796          0.000478  \n",
       "1        139280186  602980674  12726946          0.091377          0.021107  \n",
       "2         11570483  602980674     64297          0.005557          0.000107  \n",
       "3         70939179  602980674  15681252          0.221052          0.026006  \n",
       "4          2112054  602980674    141190          0.066850          0.000234  \n",
       "...            ...        ...       ...               ...               ...  \n",
       "149224   174767296  545143618    584949          0.003347          0.001073  \n",
       "149225   251843080  577212447  46574081          0.184933          0.080688  \n",
       "149226   142868298  518491161    225992          0.001582          0.000436  \n",
       "149227    92805191  577404354  92871125          1.000710          0.160842  \n",
       "149228    92805191  577404354  92871125          1.000710          0.160842  \n",
       "\n",
       "[149229 rows x 10 columns]"
      ]
     },
     "execution_count": 5,
     "metadata": {},
     "output_type": "execute_result"
    }
   ],
   "source": [
    "overlay"
   ]
  },
  {
   "cell_type": "code",
   "execution_count": 31,
   "id": "broken-depression",
   "metadata": {
    "pycharm": {
     "is_executing": true
    }
   },
   "outputs": [
    {
     "name": "stderr",
     "output_type": "stream",
     "text": [
      "INFO:pylib.extract:Creating tracts (forcing)\n",
      "INFO:pylib.extract:Write tracts\n",
      "INFO:pylib.extract:Creating geohashes (forcing)\n",
      "INFO:pylib.extract:Write geohashes\n",
      "INFO:pylib.extract:Creating geo_to_tract (forcing)\n",
      "INFO:pylib.extract:Write geo_to_tract\n",
      "INFO:pylib.extract:Creating overlay (forcing)\n",
      "INFO:pylib.extract:Write overlay\n",
      "INFO:pylib.extract:Creating utm_zones (forcing)\n",
      "INFO:pylib.extract:Write utm_zones\n",
      "INFO:pylib.extract:Creating utm_buffered_zones (forcing)\n",
      "INFO:pylib.extract:Write utm_buffered_zones\n"
     ]
    }
   ],
   "source": [
    "ex.build(force=True)"
   ]
  },
  {
   "cell_type": "code",
   "execution_count": null,
   "id": "isolated-quebec",
   "metadata": {},
   "outputs": [],
   "source": []
  }
 ],
 "metadata": {
  "kernelspec": {
   "display_name": "Python 3",
   "language": "python",
   "name": "python3"
  },
  "language_info": {
   "codemirror_mode": {
    "name": "ipython",
    "version": 3
   },
   "file_extension": ".py",
   "mimetype": "text/x-python",
   "name": "python",
   "nbconvert_exporter": "python",
   "pygments_lexer": "ipython3",
   "version": "3.7.9"
  }
 },
 "nbformat": 4,
 "nbformat_minor": 5
}
