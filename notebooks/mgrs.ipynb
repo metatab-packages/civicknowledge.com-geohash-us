{
 "cells": [
  {
   "cell_type": "code",
   "execution_count": 10,
   "id": "statutory-knight",
   "metadata": {},
   "outputs": [
    {
     "name": "stdout",
     "output_type": "stream",
     "text": [
      "The autoreload extension is already loaded. To reload it, use:\n",
      "  %reload_ext autoreload\n"
     ]
    }
   ],
   "source": [
    "%load_ext autoreload\n",
    "%autoreload 2\n",
    "    \n",
    "from pathlib import Path\n",
    "import metapack as mp\n",
    "import geopandas as gpd\n",
    "import pandas as pd\n",
    "from auto_tqdm import tqdm \n",
    "\n",
    "doc = mp.jupyter.open_source_package()\n",
    "doc.set_sys_path()\n",
    "import pylib\n",
    "\n",
    "ea_epsg = 2163 #US Equal Area projection\n",
    "\n",
    "import logging\n",
    "logging.basicConfig()\n",
    "\n",
    "from pylib import logger\n",
    "logger.setLevel(logging.DEBUG)\n"
   ]
  },
  {
   "cell_type": "code",
   "execution_count": 11,
   "id": "whole-keyboard",
   "metadata": {
    "pycharm": {
     "is_executing": true
    }
   },
   "outputs": [
    {
     "data": {
      "text/html": [
       "<h1>Geohashes and Tracts for Continential US</h1>\n",
       "<p><code>civicknowledge.com-geohash-us-1.2.1</code> Last Update: 2021-02-09T23:34:23</p>\n",
       "<p><em>Linkes between geohashes and tracts for the continential us</em></p>\n",
       "<p>This data provides tracts for the continential US, linked to \n",
       "4-character geohashes, and a dataset that provides the \n",
       "percentage of overlap between them. </p>\n",
       "<h2>Caveats</h2>\n",
       "<p>The <code>gh_in_tract_prop</code> and  <code>tract_in_gh_prop</code> columns in the overlay\n",
       "file are intended to be used for crosswalks but they don't seem \n",
       "to be correct yet.</p>\n",
       "<h2>Contacts</h2>\n",
       "<ul>\n",
       "<li><strong>Wrangler</strong> <a href=\"mailto:eric@civicknowledge.com\">Eric Busboom</a>, <a href=\"http://civicknowledge.com\">Civic Knowledge</a></li>\n",
       "</ul>\n",
       "<h2>Resources</h2>\n",
       "<ul>\n",
       "<li><strong> <a href=\"data/tracts.csv\">us_tracts</a></strong>. Census tracts in the continential US, with geohash and UTM zone</li>\n",
       "<li><strong> <a href=\"data/geohashes.csv\">us_geohashes</a></strong>. Four digit geohashes in  the continential US, with UTM zone</li>\n",
       "<li><strong> <a href=\"data/overlay.csv\">tract_geohash overlay</a></strong>. Links between geohashes and tracts and the portion of their overlap.</li>\n",
       "<li><strong> <a href=\"data/geo_to_tract.csv\">geo2tracts</a></strong>. Links from geohashes to tracts, by the location of the geohash centroid</li>\n",
       "<li><strong> <a href=\"data/utm_zones.csv\">utm_zones</a></strong>. </li>\n",
       "<li><strong> <a href=\"data/utm_buffered_zones.csv\">utm_buffered_zones</a></strong>. </li>\n",
       "</ul>\n",
       "<h2>References</h2>\n",
       "<ul><li> <strong>us_states</string>, <em>censusgeo://2019/5/US/state</em>. US States geographic boundaries</li><li> <strong>us_tracts_template</string>, <em>censusgeo://2019/5/{st}/tract</em>. Template URL for US tracts</li><li> <strong>utm_grid</string>, <em>metapack+http://library.metatab.org/civicknowledge.com-mgrs-1.1.4.csv</em>. UTM/MGRS grid</li><ul>"
      ],
      "text/plain": [
       "# Geohashes and Tracts for Continential US\n",
       "`civicknowledge.com-geohash-us-1.2.1` Last Update: 2021-02-09T23:34:23\n",
       "\n",
       "_Linkes between geohashes and tracts for the continential us_\n",
       "\n",
       "\n",
       "This data provides tracts for the continential US, linked to \n",
       "4-character geohashes, and a dataset that provides the \n",
       "percentage of overlap between them. \n",
       "\n",
       "## Caveats\n",
       "\n",
       "The `gh_in_tract_prop` and  `tract_in_gh_prop` columns in the overlay\n",
       "file are intended to be used for crosswalks but they don't seem \n",
       "to be correct yet.\n",
       "\n",
       "\n",
       " \n",
       "\n",
       "## Contacts\n",
       "\n",
       "* **Wrangler** [Eric Busboom](mailto:eric@civicknowledge.com), [Civic Knowledge](http://civicknowledge.com)\n",
       "\n",
       "## Resources\n",
       "\n",
       "* ** [us_tracts](data/tracts.csv)**. Census tracts in the continential US, with geohash and UTM zone\n",
       "* ** [us_geohashes](data/geohashes.csv)**. Four digit geohashes in  the continential US, with UTM zone\n",
       "* ** [tract_geohash overlay](data/overlay.csv)**. Links between geohashes and tracts and the portion of their overlap.\n",
       "* ** [geo2tracts](data/geo_to_tract.csv)**. Links from geohashes to tracts, by the location of the geohash centroid\n",
       "* ** [utm_zones](data/utm_zones.csv)**. \n",
       "* ** [utm_buffered_zones](data/utm_buffered_zones.csv)**. \n",
       "\n",
       "## References\n",
       "<ul><li> <strong>us_states</string>, <em>censusgeo://2019/5/US/state</em>. US States geographic boundaries</li><li> <strong>us_tracts_template</string>, <em>censusgeo://2019/5/{st}/tract</em>. Template URL for US tracts</li><li> <strong>utm_grid</string>, <em>metapack+http://library.metatab.org/civicknowledge.com-mgrs-1.1.4.csv</em>. UTM/MGRS grid</li><ul>\n"
      ]
     },
     "execution_count": 11,
     "metadata": {},
     "output_type": "execute_result"
    }
   ],
   "source": [
    "#pkg = mp.jupyter.open_package()\n",
    "pkg = mp.jupyter.open_source_package()\n",
    "pkg"
   ]
  },
  {
   "cell_type": "code",
   "execution_count": 3,
   "id": "demonstrated-luxembourg",
   "metadata": {},
   "outputs": [],
   "source": [
    "tracts = pkg.resource('us_tracts').geoframe()"
   ]
  },
  {
   "cell_type": "code",
   "execution_count": 4,
   "id": "iraqi-cruise",
   "metadata": {},
   "outputs": [
    {
     "data": {
      "text/html": [
       "<h3><a name=\"resource-utm_grid\"></a>utm_grid</h3><p><a target=\"_blank\" href=\"http://library.metatab.org/civicknowledge.com-mgrs-1.1.4/data/utm_grid.csv\">http://library.metatab.org/civicknowledge.com-mgrs-1.1.4/data/utm_grid.csv</a></p><table>\n",
       "<tr><th>Header</th><th>Type</th><th>Description</th></tr><tr><td>geometry</td><td>string</td><td></td></tr> \n",
       "<tr><td>band</td><td>integer</td><td></td></tr> \n",
       "<tr><td>row</td><td>string</td><td></td></tr> \n",
       "<tr><td>west_value</td><td>string</td><td></td></tr> \n",
       "<tr><td>cm_value</td><td>string</td><td></td></tr> \n",
       "<tr><td>east_value</td><td>string</td><td></td></tr> \n",
       "<tr><td>zone</td><td>string</td><td></td></tr> \n",
       "<tr><td>epsg</td><td>integer</td><td></td></tr> \n",
       "<tr><td>us_state</td><td>integer</td><td></td></tr> \n",
       "<tr><td>cus_state</td><td>integer</td><td></td></tr> </table>"
      ],
      "text/plain": [
       "<Resource: civicknowledge.com-mgrs-1.1.4.csv 34:1 root.datafile http://library.metatab.org/civicknowledge.com-mgrs-1.1.4/data/utm_grid.csv ['utm_grid', 'UTM Grid polygons, with links to US states', '']>"
      ]
     },
     "execution_count": 4,
     "metadata": {},
     "output_type": "execute_result"
    }
   ],
   "source": [
    "pkg.reference('utm_grid').package.resource('utm_grid')"
   ]
  },
  {
   "cell_type": "code",
   "execution_count": 9,
   "id": "polished-ivory",
   "metadata": {},
   "outputs": [],
   "source": [
    "# Buffer the grid zones by 15km, so we can include enough trcts to do searches near the border\n",
    "\n",
    "    \n",
    "tz = tract_zones(pkg,tracts)\n"
   ]
  },
  {
   "cell_type": "code",
   "execution_count": null,
   "id": "political-therapy",
   "metadata": {},
   "outputs": [],
   "source": []
  }
 ],
 "metadata": {
  "kernelspec": {
   "display_name": "Python 3",
   "language": "python",
   "name": "python3"
  },
  "language_info": {
   "codemirror_mode": {
    "name": "ipython",
    "version": 3
   },
   "file_extension": ".py",
   "mimetype": "text/x-python",
   "name": "python",
   "nbconvert_exporter": "python",
   "pygments_lexer": "ipython3",
   "version": "3.7.9"
  }
 },
 "nbformat": 4,
 "nbformat_minor": 5
}
